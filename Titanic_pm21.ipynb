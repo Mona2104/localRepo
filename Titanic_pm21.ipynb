{
  "metadata": {
    "kernelspec": {
      "language": "python",
      "display_name": "Python 3",
      "name": "python3"
    },
    "language_info": {
      "name": "python",
      "version": "3.10.13",
      "mimetype": "text/x-python",
      "codemirror_mode": {
        "name": "ipython",
        "version": 3
      },
      "pygments_lexer": "ipython3",
      "nbconvert_exporter": "python",
      "file_extension": ".py"
    },
    "kaggle": {
      "accelerator": "none",
      "dataSources": [
        {
          "sourceId": 8773939,
          "sourceType": "datasetVersion",
          "datasetId": 5273087
        }
      ],
      "dockerImageVersionId": 30732,
      "isInternetEnabled": false,
      "language": "python",
      "sourceType": "notebook",
      "isGpuEnabled": false
    },
    "colab": {
      "provenance": [],
      "include_colab_link": true
    }
  },
  "nbformat_minor": 0,
  "nbformat": 4,
  "cells": [
    {
      "cell_type": "markdown",
      "metadata": {
        "id": "view-in-github",
        "colab_type": "text"
      },
      "source": [
        "<a href=\"https://colab.research.google.com/github/Mona2104/localRepo/blob/main/Titanic_pm21.ipynb\" target=\"_parent\"><img src=\"https://colab.research.google.com/assets/colab-badge.svg\" alt=\"Open In Colab\"/></a>"
      ]
    },
    {
      "source": [
        "\n",
        "# IMPORTANT: RUN THIS CELL IN ORDER TO IMPORT YOUR KAGGLE DATA SOURCES\n",
        "# TO THE CORRECT LOCATION (/kaggle/input) IN YOUR NOTEBOOK,\n",
        "# THEN FEEL FREE TO DELETE THIS CELL.\n",
        "# NOTE: THIS NOTEBOOK ENVIRONMENT DIFFERS FROM KAGGLE'S PYTHON\n",
        "# ENVIRONMENT SO THERE MAY BE MISSING LIBRARIES USED BY YOUR\n",
        "# NOTEBOOK.\n",
        "\n",
        "import os\n",
        "import sys\n",
        "from tempfile import NamedTemporaryFile\n",
        "from urllib.request import urlopen\n",
        "from urllib.parse import unquote, urlparse\n",
        "from urllib.error import HTTPError\n",
        "from zipfile import ZipFile\n",
        "import tarfile\n",
        "import shutil\n",
        "\n",
        "CHUNK_SIZE = 40960\n",
        "DATA_SOURCE_MAPPING = 'titanic:https%3A%2F%2Fstorage.googleapis.com%2Fkaggle-data-sets%2F5273087%2F8773939%2Fbundle%2Farchive.zip%3FX-Goog-Algorithm%3DGOOG4-RSA-SHA256%26X-Goog-Credential%3Dgcp-kaggle-com%2540kaggle-161607.iam.gserviceaccount.com%252F20240718%252Fauto%252Fstorage%252Fgoog4_request%26X-Goog-Date%3D20240718T110216Z%26X-Goog-Expires%3D259200%26X-Goog-SignedHeaders%3Dhost%26X-Goog-Signature%3D63a8aca1dec15637c74fa8b6dfd846f26c387f76d9acd014089bc2c08129925b402f0d75bf8fb64eb2b35b8a75b2dff522e7cbe55887cc089ac2a2365eb53f3d3855106faf965cd4bb823a2363af727e6e14face420deeac456361e15be4e1ad73abe664a867d9f31066256130b58fe8eda6d0ecd8d8229686711ca8e1f5b9a107b21ffb3946c2c868c8446104d9c431b67bfec571fa4b40d2a0eb4b1dec8aa5597fb64070a161cd2de5341b52a8cd76c14b841a7f34e8dac297e4e8b3ff5b07f8fe0cf8fec787bdd2d32939e011de01860ac39ecdb2c8231d7b9bab59d8cfb847011bf5c3c9aabed5947568d06a356698121707864b51df64656e992474fa24'\n",
        "\n",
        "KAGGLE_INPUT_PATH='/kaggle/input'\n",
        "KAGGLE_WORKING_PATH='/kaggle/working'\n",
        "KAGGLE_SYMLINK='kaggle'\n",
        "\n",
        "!umount /kaggle/input/ 2> /dev/null\n",
        "shutil.rmtree('/kaggle/input', ignore_errors=True)\n",
        "os.makedirs(KAGGLE_INPUT_PATH, 0o777, exist_ok=True)\n",
        "os.makedirs(KAGGLE_WORKING_PATH, 0o777, exist_ok=True)\n",
        "\n",
        "try:\n",
        "  os.symlink(KAGGLE_INPUT_PATH, os.path.join(\"..\", 'input'), target_is_directory=True)\n",
        "except FileExistsError:\n",
        "  pass\n",
        "try:\n",
        "  os.symlink(KAGGLE_WORKING_PATH, os.path.join(\"..\", 'working'), target_is_directory=True)\n",
        "except FileExistsError:\n",
        "  pass\n",
        "\n",
        "for data_source_mapping in DATA_SOURCE_MAPPING.split(','):\n",
        "    directory, download_url_encoded = data_source_mapping.split(':')\n",
        "    download_url = unquote(download_url_encoded)\n",
        "    filename = urlparse(download_url).path\n",
        "    destination_path = os.path.join(KAGGLE_INPUT_PATH, directory)\n",
        "    try:\n",
        "        with urlopen(download_url) as fileres, NamedTemporaryFile() as tfile:\n",
        "            total_length = fileres.headers['content-length']\n",
        "            print(f'Downloading {directory}, {total_length} bytes compressed')\n",
        "            dl = 0\n",
        "            data = fileres.read(CHUNK_SIZE)\n",
        "            while len(data) > 0:\n",
        "                dl += len(data)\n",
        "                tfile.write(data)\n",
        "                done = int(50 * dl / int(total_length))\n",
        "                sys.stdout.write(f\"\\r[{'=' * done}{' ' * (50-done)}] {dl} bytes downloaded\")\n",
        "                sys.stdout.flush()\n",
        "                data = fileres.read(CHUNK_SIZE)\n",
        "            if filename.endswith('.zip'):\n",
        "              with ZipFile(tfile) as zfile:\n",
        "                zfile.extractall(destination_path)\n",
        "            else:\n",
        "              with tarfile.open(tfile.name) as tarfile:\n",
        "                tarfile.extractall(destination_path)\n",
        "            print(f'\\nDownloaded and uncompressed: {directory}')\n",
        "    except HTTPError as e:\n",
        "        print(f'Failed to load (likely expired) {download_url} to path {destination_path}')\n",
        "        continue\n",
        "    except OSError as e:\n",
        "        print(f'Failed to load {download_url} to path {destination_path}')\n",
        "        continue\n",
        "\n",
        "print('Data source import complete.')\n"
      ],
      "metadata": {
        "id": "uAWcaNP_gdiS"
      },
      "cell_type": "code",
      "outputs": [],
      "execution_count": null
    },
    {
      "cell_type": "code",
      "source": [
        "# This Python 3 environment comes with many helpful analytics libraries installed\n",
        "# It is defined by the kaggle/python Docker image: https://github.com/kaggle/docker-python\n",
        "# For example, here's several helpful packages to load\n",
        "\n",
        "import numpy as np # linear algebra\n",
        "import pandas as pd\n",
        "import matplotlib.pyplot as plt\n",
        "import copy\n",
        "import math\n",
        "%matplotlib inline\n",
        "# data processing, CSV file I/O (e.g. pd.read_csv)\n",
        "\n",
        "# Input data files are available in the read-only \"../input/\" directory\n",
        "# For example, running this (by clicking run or pressing Shift+Enter) will list all files under the input directory\n",
        "\n",
        "import os\n",
        "for dirname, _, filenames in os.walk('/kaggle/input'):\n",
        "    for filename in filenames:\n",
        "        print(os.path.join(dirname, filename))\n",
        "\n",
        "# You can write up to 20GB to the current directory (/kaggle/working/) that gets preserved as output when you create a version using \"Save & Run All\"\n",
        "# You can also write temporary files to /kaggle/temp/, but they won't be saved outside of the current session"
      ],
      "metadata": {
        "_uuid": "8f2839f25d086af736a60e9eeb907d3b93b6e0e5",
        "_cell_guid": "b1076dfc-b9ad-4769-8c92-a6c4dae69d19",
        "execution": {
          "iopub.status.busy": "2024-07-04T05:49:47.147358Z",
          "iopub.execute_input": "2024-07-04T05:49:47.147823Z",
          "iopub.status.idle": "2024-07-04T05:49:48.322396Z",
          "shell.execute_reply.started": "2024-07-04T05:49:47.147789Z",
          "shell.execute_reply": "2024-07-04T05:49:48.321187Z"
        },
        "trusted": true,
        "id": "8PAMl255gdic"
      },
      "execution_count": null,
      "outputs": []
    },
    {
      "cell_type": "code",
      "source": [
        "titanic_data=pd.read_csv('/kaggle/input/titanic/train.csv')\n",
        "test_data=pd.read_csv('/kaggle/input/titanic/test.csv')"
      ],
      "metadata": {
        "execution": {
          "iopub.status.busy": "2024-07-04T05:51:12.860903Z",
          "iopub.execute_input": "2024-07-04T05:51:12.861317Z",
          "iopub.status.idle": "2024-07-04T05:51:12.878731Z",
          "shell.execute_reply.started": "2024-07-04T05:51:12.861287Z",
          "shell.execute_reply": "2024-07-04T05:51:12.877507Z"
        },
        "trusted": true,
        "id": "_oenX0g4gdie"
      },
      "execution_count": null,
      "outputs": []
    },
    {
      "cell_type": "code",
      "source": [
        "titanic_data.head()"
      ],
      "metadata": {
        "execution": {
          "iopub.status.busy": "2024-07-04T05:51:18.589016Z",
          "iopub.execute_input": "2024-07-04T05:51:18.58941Z",
          "iopub.status.idle": "2024-07-04T05:51:18.619151Z",
          "shell.execute_reply.started": "2024-07-04T05:51:18.589381Z",
          "shell.execute_reply": "2024-07-04T05:51:18.618157Z"
        },
        "trusted": true,
        "id": "rkoajwa1gdif"
      },
      "execution_count": null,
      "outputs": []
    },
    {
      "cell_type": "code",
      "source": [
        "titanic_data['Sex'].isna()"
      ],
      "metadata": {
        "execution": {
          "iopub.status.busy": "2024-07-04T05:51:22.449638Z",
          "iopub.execute_input": "2024-07-04T05:51:22.450593Z",
          "iopub.status.idle": "2024-07-04T05:51:22.460306Z",
          "shell.execute_reply.started": "2024-07-04T05:51:22.450557Z",
          "shell.execute_reply": "2024-07-04T05:51:22.459068Z"
        },
        "trusted": true,
        "id": "pMNLyXUwgdih"
      },
      "execution_count": null,
      "outputs": []
    },
    {
      "cell_type": "code",
      "source": [
        "titanic_data\n"
      ],
      "metadata": {
        "execution": {
          "iopub.status.busy": "2024-07-04T05:51:26.240799Z",
          "iopub.execute_input": "2024-07-04T05:51:26.241683Z",
          "iopub.status.idle": "2024-07-04T05:51:26.266914Z",
          "shell.execute_reply.started": "2024-07-04T05:51:26.241642Z",
          "shell.execute_reply": "2024-07-04T05:51:26.265773Z"
        },
        "trusted": true,
        "id": "pBXuYuQ7gdii"
      },
      "execution_count": null,
      "outputs": []
    },
    {
      "cell_type": "code",
      "source": [
        "titanic_data.sort_values('Fare',ascending=False).head(3)"
      ],
      "metadata": {
        "execution": {
          "iopub.status.busy": "2024-07-04T05:51:37.54794Z",
          "iopub.execute_input": "2024-07-04T05:51:37.548343Z",
          "iopub.status.idle": "2024-07-04T05:51:37.568207Z",
          "shell.execute_reply.started": "2024-07-04T05:51:37.548312Z",
          "shell.execute_reply": "2024-07-04T05:51:37.566913Z"
        },
        "trusted": true,
        "id": "RBAvhHongdii"
      },
      "execution_count": null,
      "outputs": []
    },
    {
      "cell_type": "code",
      "source": [
        "titanic_data.describe()"
      ],
      "metadata": {
        "execution": {
          "iopub.status.busy": "2024-07-04T05:51:40.785873Z",
          "iopub.execute_input": "2024-07-04T05:51:40.786253Z",
          "iopub.status.idle": "2024-07-04T05:51:40.822884Z",
          "shell.execute_reply.started": "2024-07-04T05:51:40.786225Z",
          "shell.execute_reply": "2024-07-04T05:51:40.821777Z"
        },
        "trusted": true,
        "id": "qkyAv8P1gdij"
      },
      "execution_count": null,
      "outputs": []
    },
    {
      "cell_type": "code",
      "source": [
        "p=titanic_data['Age'].mean()\n",
        "titanic_data['Age'].fillna(p)"
      ],
      "metadata": {
        "execution": {
          "iopub.status.busy": "2024-07-04T05:51:43.95144Z",
          "iopub.execute_input": "2024-07-04T05:51:43.951865Z",
          "iopub.status.idle": "2024-07-04T05:51:43.962379Z",
          "shell.execute_reply.started": "2024-07-04T05:51:43.951832Z",
          "shell.execute_reply": "2024-07-04T05:51:43.96118Z"
        },
        "trusted": true,
        "id": "PLeUDgirgdik"
      },
      "execution_count": null,
      "outputs": []
    },
    {
      "cell_type": "code",
      "source": [
        "titanic_data['Age'].plot(kind='hist')"
      ],
      "metadata": {
        "execution": {
          "iopub.status.busy": "2024-07-04T06:05:01.681815Z",
          "iopub.execute_input": "2024-07-04T06:05:01.682253Z",
          "iopub.status.idle": "2024-07-04T06:05:02.045438Z",
          "shell.execute_reply.started": "2024-07-04T06:05:01.68222Z",
          "shell.execute_reply": "2024-07-04T06:05:02.044285Z"
        },
        "trusted": true,
        "id": "e9Cf1uGkgdil"
      },
      "execution_count": null,
      "outputs": []
    },
    {
      "cell_type": "code",
      "source": [
        "women=titanic_data.loc[titanic_data.Sex=='female']['Survived']\n",
        "rate_women=sum(women)/len(women)\n",
        "print(rate_women)"
      ],
      "metadata": {
        "execution": {
          "iopub.status.busy": "2024-07-04T05:51:47.248367Z",
          "iopub.execute_input": "2024-07-04T05:51:47.248812Z",
          "iopub.status.idle": "2024-07-04T05:51:47.256731Z",
          "shell.execute_reply.started": "2024-07-04T05:51:47.248781Z",
          "shell.execute_reply": "2024-07-04T05:51:47.255599Z"
        },
        "trusted": true,
        "id": "Xs-4Hf9Ggdim"
      },
      "execution_count": null,
      "outputs": []
    },
    {
      "cell_type": "code",
      "source": [
        "from sklearn.ensemble import RandomForestClassifier\n",
        "y=titanic_data[\"Survived\"]\n",
        "\n",
        "features=[\"Pclass\",\"Sex\",\"SibSp\",\"Parch\"]\n",
        "X=pd.get_dummies(titanic_data[features])\n",
        "X_test=pd.get_dummies(test_data[features])\n",
        "\n",
        "model=RandomForestClassifier(n_estimators=100,max_depth=5,random_state=1)\n",
        "model.fit(X,y)\n",
        "predictions=model.predict(X_test)\n",
        "output=pd.DataFrame({'PassengerId':test_data.PassengerId,'Survived':predictions})\n",
        "output.to_csv('submissions.csv',index=False)\n",
        "print(\"Y\")"
      ],
      "metadata": {
        "execution": {
          "iopub.status.busy": "2024-07-04T05:51:54.082838Z",
          "iopub.execute_input": "2024-07-04T05:51:54.083231Z",
          "iopub.status.idle": "2024-07-04T05:51:54.359086Z",
          "shell.execute_reply.started": "2024-07-04T05:51:54.083201Z",
          "shell.execute_reply": "2024-07-04T05:51:54.357999Z"
        },
        "trusted": true,
        "id": "BKT-_crugdim"
      },
      "execution_count": null,
      "outputs": []
    }
  ]
}